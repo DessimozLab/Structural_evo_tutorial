{
 "cells": [
  {
   "cell_type": "markdown",
   "id": "0b86513d",
   "metadata": {},
   "source": [
    "# Domain Architecture and Evolution of RRNPP Proteins\n",
    "\n",
    "Welcome! In this notebook, you will analyze the domain architecture and evolutionary relationships of the RRNPP family of quorum sensing proteins, following the workflow from [this preprint](https://www.biorxiv.org/content/10.1101/2023.09.19.558401v2).\n",
    "\n",
    "## Objectives\n",
    "- **Introduction to RRNPP proteins:** Review their roles and domain organization.\n",
    "- **Domain architecture analysis:** Compare sequences and define core, N-terminal, and C-terminal regions.\n",
    "- **Homology clustering:** Group and visualize similar regions using graph-based methods.\n",
    "- **Phylogenetic analysis:** Build and annotate a tree based on core regions.\n",
    "- **Evolutionary inference:** Map and interpret domain architecture transitions.\n",
    "\n",
    "## Workflow Overview\n",
    "1. Introduction to RRNPP proteins\n",
    "2. Domain architecture analysis\n",
    "3. Homology clustering\n",
    "4. Phylogenetic analysis\n",
    "5. Evolutionary inference and discussion\n",
    "\n",
    "---\n",
    "\n",
    "Let's get started!"
   ]
  },
  {
   "cell_type": "markdown",
   "id": "d741b70c",
   "metadata": {},
   "source": []
  }
 ],
 "metadata": {
  "language_info": {
   "name": "python"
  }
 },
 "nbformat": 4,
 "nbformat_minor": 5
}
