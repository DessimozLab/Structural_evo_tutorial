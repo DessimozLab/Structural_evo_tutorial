{
 "cells": [
  {
   "cell_type": "markdown",
   "id": "113ecb6a",
   "metadata": {},
   "source": [
    "# Protein Structure Homology and Evolutionary Analysis with Foldseek\n",
    "\n",
    "Welcome! In this notebook, you will explore protein structure homology and evolutionary relationships using the Foldseek API. You can use your own protein structure or select one from the AlphaFold Database, identify homologous structures, and analyze their relationships.\n",
    "\n",
    "## Objectives\n",
    "- **Select a protein structure:** Use your own data or choose a structure from the AlphaFold DB.\n",
    "- **Find homologs:** Query the Foldseek API to identify structurally similar proteins.\n",
    "- **Download structures:** Retrieve the 3D structures of homologous proteins.\n",
    "- **Compare structures:** Perform structural alignments and analyze similarities.\n",
    "- **Build a phylogeny:** Derive a phylogenetic tree based on structural relationships.\n",
    "\n",
    "## Workflow Overview\n",
    "1. Choose a protein structure\n",
    "2. Search for homologs with Foldseek\n",
    "3. Download homologous structures\n",
    "4. Structural comparison\n",
    "5. Phylogenetic analysis\n",
    "\n",
    "---\n",
    "\n",
    "Let's get started!"
   ]
  },
  {
   "cell_type": "code",
   "execution_count": null,
   "id": "921c1428",
   "metadata": {},
   "outputs": [],
   "source": [
    "\n",
    "#where is your structure?\n",
    "path_to_your_structure = \"####change this####\""
   ]
  },
  {
   "cell_type": "code",
   "execution_count": null,
   "id": "42ca616d",
   "metadata": {},
   "outputs": [],
   "source": [
    "import requests\n",
    "import pandas as pd\n",
    "\n",
    "def query_foldseek_api(pdb_file_path):\n",
    "\t\"\"\"\n",
    "\tQuery the Foldseek API with a custom PDB file and return results as a pandas DataFrame.\n",
    "\t\"\"\"\n",
    "\turl = \"https://search.foldseek.com/api/search\"\n",
    "\twith open(pdb_file_path, 'rb') as pdb_file:\n",
    "\t\tfiles = {'query': pdb_file}\n",
    "\t\tdata = {'db': 'alphafold'}\n",
    "\t\tresponse = requests.post(url, files=files, data=data)\n",
    "\tresponse.raise_for_status()\n",
    "\tresults = response.json()\n",
    "\thits = results.get('results', [])\n",
    "\tif not hits:\n",
    "\t\treturn pd.DataFrame()\n",
    "\tdf = pd.DataFrame(hits)\n",
    "\treturn df\n",
    "\n",
    "#let's query the Foldseek API with our structure\n",
    "df = query_foldseek_api(path_to_your_structure)"
   ]
  },
  {
   "cell_type": "code",
   "execution_count": null,
   "id": "d79180d4",
   "metadata": {},
   "outputs": [],
   "source": [
    "df"
   ]
  },
  {
   "cell_type": "code",
   "execution_count": null,
   "id": "11e1cdc0",
   "metadata": {},
   "outputs": [],
   "source": [
    "#we can download the alphafold structures for the hits as well as the uniprot metadata\n"
   ]
  },
  {
   "cell_type": "code",
   "execution_count": null,
   "id": "cfa86f6e",
   "metadata": {},
   "outputs": [],
   "source": [
    "#at this point we should inspect the dataset a bit to see what we have"
   ]
  },
  {
   "cell_type": "code",
   "execution_count": null,
   "id": "919427c2",
   "metadata": {},
   "outputs": [],
   "source": [
    "#we can check the taxonomic distribution of the hits\n",
    "maxlevel = 5"
   ]
  },
  {
   "cell_type": "code",
   "execution_count": null,
   "id": "6303c39f",
   "metadata": {},
   "outputs": [],
   "source": []
  },
  {
   "cell_type": "code",
   "execution_count": null,
   "id": "dfdd1d66",
   "metadata": {},
   "outputs": [],
   "source": [
    "from fold_tree.src.corecut import *\n",
    "from fold_tree.src.foldseek2tree import *"
   ]
  },
  {
   "cell_type": "code",
   "execution_count": null,
   "id": "66faf219",
   "metadata": {},
   "outputs": [],
   "source": [
    "#let's take a look at some of the results\n"
   ]
  },
  {
   "cell_type": "markdown",
   "id": "c7d5dcee",
   "metadata": {},
   "source": [
    "Now it's your turn! In the previous sections, we explored how to:\n",
    "\n",
    "- Examine pairs of protein structures using rigid alignment\n",
    "- Label and annotate different structural regions\n",
    "- Build and visualize both sequence-based and structure-based phylogenetic trees\n",
    "\n",
    "Each code cell in this notebook is designed to be self-contained, allowing you to run the analyses step by step. Feel free to experiment with your own data and explore the evolutionary and structural relationships of your proteins of interest."
   ]
  },
  {
   "cell_type": "code",
   "execution_count": null,
   "id": "d5b41ee3",
   "metadata": {},
   "outputs": [],
   "source": [
    "#using the unprot API let's get the metadata for these proteins"
   ]
  },
  {
   "cell_type": "code",
   "execution_count": null,
   "id": "7405d155",
   "metadata": {},
   "outputs": [],
   "source": [
    "#we can visualize the results. What Evalues, lengths, and identities do we have?\n",
    "#lets plot the results and decide on some meaningful cutoffs"
   ]
  },
  {
   "cell_type": "code",
   "execution_count": null,
   "id": "0abab212",
   "metadata": {},
   "outputs": [],
   "source": [
    "#once we have a reasonable number of structures, we can download them\n"
   ]
  },
  {
   "cell_type": "code",
   "execution_count": null,
   "id": "a32285d9",
   "metadata": {},
   "outputs": [],
   "source": [
    "#at this point we can inspect some of the structures\n",
    "#do we have any interesting domain architectures? Unexpected folds?"
   ]
  },
  {
   "cell_type": "code",
   "execution_count": null,
   "id": "45c44ad1",
   "metadata": {},
   "outputs": [],
   "source": [
    "#we can use the taxonomic tree to see where this protein is found\n"
   ]
  },
  {
   "cell_type": "code",
   "execution_count": null,
   "id": "c49de034",
   "metadata": {},
   "outputs": [],
   "source": [
    "#"
   ]
  }
 ],
 "metadata": {
  "language_info": {
   "name": "python"
  }
 },
 "nbformat": 4,
 "nbformat_minor": 5
}
